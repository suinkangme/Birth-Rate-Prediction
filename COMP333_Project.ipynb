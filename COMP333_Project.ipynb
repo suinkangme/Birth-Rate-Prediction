{
  "nbformat": 4,
  "nbformat_minor": 0,
  "metadata": {
    "colab": {
      "provenance": [],
      "authorship_tag": "ABX9TyPvSkMIlk5+WyD9S3YtiCFc",
      "include_colab_link": true
    },
    "kernelspec": {
      "name": "python3",
      "display_name": "Python 3"
    },
    "language_info": {
      "name": "python"
    }
  },
  "cells": [
    {
      "cell_type": "markdown",
      "metadata": {
        "id": "view-in-github",
        "colab_type": "text"
      },
      "source": [
        "<a href=\"https://colab.research.google.com/github/suinkangme/comp333_project/blob/main/COMP333_Project.ipynb\" target=\"_parent\"><img src=\"https://colab.research.google.com/assets/colab-badge.svg\" alt=\"Open In Colab\"/></a>"
      ]
    },
    {
      "cell_type": "markdown",
      "source": [
        "# < Birth Rate Prediction >\n",
        "you can change the title"
      ],
      "metadata": {
        "id": "aqaK_3p26VVs"
      }
    },
    {
      "cell_type": "code",
      "source": [
        "# import libraries\n",
        "import pandas as pd\n",
        "import numpy as np\n",
        "import sklearn as sk"
      ],
      "metadata": {
        "id": "3F2j55526V_m"
      },
      "execution_count": null,
      "outputs": []
    },
    {
      "cell_type": "markdown",
      "source": [
        "## Load the datasets"
      ],
      "metadata": {
        "id": "dy9RWPul6nPB"
      }
    },
    {
      "cell_type": "code",
      "source": [],
      "metadata": {
        "id": "a4VHzvQY6WCN"
      },
      "execution_count": null,
      "outputs": []
    },
    {
      "cell_type": "code",
      "source": [],
      "metadata": {
        "id": "GXZcoX9L6WES"
      },
      "execution_count": null,
      "outputs": []
    },
    {
      "cell_type": "markdown",
      "source": [
        "## Data Intergration"
      ],
      "metadata": {
        "id": "NhUk2D8F6p2-"
      }
    },
    {
      "cell_type": "code",
      "source": [],
      "metadata": {
        "id": "ht_n4fJL6WIM"
      },
      "execution_count": null,
      "outputs": []
    },
    {
      "cell_type": "code",
      "source": [],
      "metadata": {
        "id": "L5oyITVX6WKS"
      },
      "execution_count": null,
      "outputs": []
    },
    {
      "cell_type": "markdown",
      "source": [
        "## Data Preprocessing\n",
        "- Data cleaning\n",
        "- Data transformation"
      ],
      "metadata": {
        "id": "CSW0wBsa6uBI"
      }
    },
    {
      "cell_type": "code",
      "source": [],
      "metadata": {
        "id": "UpCJZlZm62qQ"
      },
      "execution_count": null,
      "outputs": []
    },
    {
      "cell_type": "code",
      "source": [],
      "metadata": {
        "id": "R0SbUiTO605R"
      },
      "execution_count": null,
      "outputs": []
    },
    {
      "cell_type": "markdown",
      "source": [
        "## Build a ML Model\n",
        "- perform prediction"
      ],
      "metadata": {
        "id": "r685HEqs61cq"
      }
    },
    {
      "cell_type": "code",
      "source": [],
      "metadata": {
        "id": "EwwL2iQl618L"
      },
      "execution_count": null,
      "outputs": []
    },
    {
      "cell_type": "code",
      "source": [],
      "metadata": {
        "id": "pRjme4Da6_G6"
      },
      "execution_count": null,
      "outputs": []
    }
  ]
}